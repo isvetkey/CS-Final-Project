{
 "cells": [
  {
   "cell_type": "code",
   "execution_count": 1,
   "metadata": {},
   "outputs": [],
   "source": [
    "import pylab\n",
    "import datetime\n",
    "import time\n",
    "import numpy as np\n",
    "import math\n",
    "import skimage.draw\n",
    "import matplotlib.animation as anim\n",
    "from IPython.display import clear_output"
   ]
  },
  {
   "cell_type": "code",
   "execution_count": 2,
   "metadata": {},
   "outputs": [],
   "source": [
    "clock = np.zeros((225, 225))"
   ]
  },
  {
   "cell_type": "code",
   "execution_count": 3,
   "metadata": {
    "scrolled": true
   },
   "outputs": [],
   "source": [
    "def circle(size, clock=None):\n",
    "    if clock is not None:\n",
    "        tempclock = clock\n",
    "    else:\n",
    "        tempclock = np.zeros((200, 200))\n",
    "    ys = len(tempclock)//2\n",
    "    xs = len(tempclock[0])//2\n",
    "    for i in range(360):\n",
    "        x = (int)(xs + size/2*(math.cos(math.pi/180*i)))\n",
    "        y = (int)(ys + size/2*(math.sin(math.pi/180*i)))\n",
    "        tempclock[x, y] = 4\n",
    "    return tempclock"
   ]
  },
  {
   "cell_type": "code",
   "execution_count": 6,
   "metadata": {
    "scrolled": true
   },
   "outputs": [
    {
     "data": {
      "image/png": "[encoded data removed]",
      "text/plain": [
       "<Figure size 432x288 with 1 Axes>"
      ]
     },
     "metadata": {},
     "output_type": "display_data"
    },
    {
     "ename": "KeyboardInterrupt",
     "evalue": "",
     "output_type": "error",
     "traceback": [
      "\u001b[0;31m---------------------------------------------------------------------------\u001b[0m",
      "\u001b[0;31mKeyboardInterrupt\u001b[0m                         Traceback (most recent call last)",
      "\u001b[0;32m<ipython-input-6-dd7001949deb>\u001b[0m in \u001b[0;36m<module>\u001b[0;34m()\u001b[0m\n\u001b[1;32m      7\u001b[0m     \u001b[0mm\u001b[0m \u001b[0;34m=\u001b[0m \u001b[0mpylab\u001b[0m\u001b[0;34m.\u001b[0m\u001b[0mimshow\u001b[0m\u001b[0;34m(\u001b[0m\u001b[0mclock\u001b[0m\u001b[0;34m)\u001b[0m\u001b[0;34m\u001b[0m\u001b[0m\n\u001b[1;32m      8\u001b[0m     \u001b[0mpylab\u001b[0m\u001b[0;34m.\u001b[0m\u001b[0mshow\u001b[0m\u001b[0;34m(\u001b[0m\u001b[0;34m)\u001b[0m\u001b[0;34m\u001b[0m\u001b[0m\n\u001b[0;32m----> 9\u001b[0;31m     \u001b[0mtime\u001b[0m\u001b[0;34m.\u001b[0m\u001b[0msleep\u001b[0m\u001b[0;34m(\u001b[0m\u001b[0;36m1\u001b[0m\u001b[0;34m)\u001b[0m\u001b[0;34m\u001b[0m\u001b[0m\n\u001b[0m\u001b[1;32m     10\u001b[0m     \u001b[0mclear_output\u001b[0m\u001b[0;34m(\u001b[0m\u001b[0;34m)\u001b[0m\u001b[0;34m\u001b[0m\u001b[0m\n",
      "\u001b[0;31mKeyboardInterrupt\u001b[0m: "
     ]
    }
   ],
   "source": [
    "for i in range(100):\n",
    "    clock = np.zeros((225, 225))\n",
    "    circle(200, clock)\n",
    "    hand(200, 50, 3, clock)\n",
    "    hand(200, 70, 2, clock)\n",
    "    hand(200, 70, 1, clock)\n",
    "    m = pylab.imshow(clock)\n",
    "    pylab.show()\n",
    "    time.sleep(1)\n",
    "    clear_output()"
   ]
  },
  {
   "cell_type": "code",
   "execution_count": 5,
   "metadata": {},
   "outputs": [],
   "source": [
    "def hand(size, percent, ID, clock):\n",
    "    ys = len(clock)//2\n",
    "    xs = len(clock[0])//2\n",
    "    now = datetime.datetime.today()\n",
    "    if ID == 3:\n",
    "        a = (now.hour%12+now.minute/60+now.second/3600) * 30\n",
    "    elif ID == 2:\n",
    "        a = (now.minute+now.second/60) * 6\n",
    "    else:\n",
    "        a = now.second * 6\n",
    "    angle = (a - 90) * math.pi / 180\n",
    "    r, c = skimage.draw.line(ys, xs, ys+(int)((size*percent/200)*math.sin(angle)), xs+(int)((size*percent/200)*math.cos(angle)))\n",
    "    clock[r, c] = ID\n",
    "    return clock"
   ]
  },
  {
   "cell_type": "code",
   "execution_count": null,
   "metadata": {},
   "outputs": [],
   "source": []
  }
 ],
 "metadata": {
  "kernelspec": {
   "display_name": "Python 3",
   "language": "python",
   "name": "python3"
  },
  "language_info": {
   "codemirror_mode": {
    "name": "ipython",
    "version": 3
   },
   "file_extension": ".py",
   "mimetype": "text/x-python",
   "name": "python",
   "nbconvert_exporter": "python",
   "pygments_lexer": "ipython3",
   "version": "3.6.5"
  }
 },
 "nbformat": 4,
 "nbformat_minor": 2
}
