{
 "cells": [
  {
   "cell_type": "code",
   "execution_count": 7,
   "metadata": {
    "scrolled": true
   },
   "outputs": [
    {
     "name": "stdout",
     "output_type": "stream",
     "text": [
      "[43, 31, 33, 70]\n"
     ]
    },
    {
     "data": {
      "image/png": "[encoded data removed]",
      "text/plain": [
       "<Figure size 432x288 with 1 Axes>"
      ]
     },
     "metadata": {},
     "output_type": "display_data"
    }
   ],
   "source": [
    "import numpy as np\n",
    "import pylab\n",
    "import skimage.draw\n",
    "import math\n",
    "X = np.random.randint(30, 50)\n",
    "Y = np.random.randint(30, 50)\n",
    "SX = 300\n",
    "SY = 220\n",
    "def angle(X, Y, SX=100, SY=100, preset=None, L=20) :\n",
    "    if preset is not None:\n",
    "        img = preset\n",
    "    else:\n",
    "        img = np.zeros((SY, SX))\n",
    "    t = np.random.randint(0, 360)\n",
    "    label = np.random.randint(10, 80)\n",
    "    t2 = t * (math.pi/180)\n",
    "    diff2 = label * (math.pi/180)\n",
    "    r, c = skimage.draw.line(Y, X, Y+(int)(L*np.sin(t2)), X+(int)(L*np.cos(t2)))\n",
    "    diffangle = t2+diff2\n",
    "    r2, c2 = skimage.draw.line(Y, X, Y+(int)(L*np.sin(diffangle)), X+(int)(L*np.cos(diffangle)))\n",
    "    img[r, c] = 1\n",
    "    img[r2, c2] = 1\n",
    "    return label, img\n",
    "locations = [[40, 45], [110, 90], [190, 135], [260, 180]]\n",
    "img = np.zeros((SY, SX))\n",
    "labels = []\n",
    "for i in range(len(locations)):\n",
    "    labels.append(angle(locations[i][0], locations[i][1], preset=img)[0])\n",
    "pylab.imshow(img)\n",
    "print(labels)"
   ]
  },
  {
   "cell_type": "code",
   "execution_count": null,
   "metadata": {},
   "outputs": [],
   "source": []
  }
 ],
 "metadata": {
  "kernelspec": {
   "display_name": "Python 3",
   "language": "python",
   "name": "python3"
  },
  "language_info": {
   "codemirror_mode": {
    "name": "ipython",
    "version": 3
   },
   "file_extension": ".py",
   "mimetype": "text/x-python",
   "name": "python",
   "nbconvert_exporter": "python",
   "pygments_lexer": "ipython3",
   "version": "3.6.5"
  }
 },
 "nbformat": 4,
 "nbformat_minor": 2
}
