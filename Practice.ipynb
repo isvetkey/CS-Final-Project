{
 "cells": [
  {
   "cell_type": "code",
   "execution_count": 47,
   "metadata": {
    "scrolled": true
   },
   "outputs": [
    {
     "name": "stdout",
     "output_type": "stream",
     "text": [
      "72\n",
      "60\n",
      "47\n"
     ]
    },
    {
     "data": {
      "text/plain": [
       "47"
      ]
     },
     "execution_count": 47,
     "metadata": {},
     "output_type": "execute_result"
    },
    {
     "data": {
      "image/png": "[encoded data removed]",
      "text/plain": [
       "<Figure size 432x288 with 1 Axes>"
      ]
     },
     "metadata": {},
     "output_type": "display_data"
    }
   ],
   "source": [
    "import numpy as np\n",
    "import pylab\n",
    "import skimage.draw\n",
    "import math\n",
    "img = np.zeros((100, 100))\n",
    "X = np.random.randint(30, 50)\n",
    "Y = np.random.randint(30, 50)\n",
    "def draw_angle(X, Y, img, L=20) :\n",
    "    t = np.random.randint(0, 360)\n",
    "    diff = np.random.randint(10, 80)\n",
    "    t2 = t * (math.pi/180)\n",
    "    diff2 = diff * (math.pi/180)\n",
    "    L = 20\n",
    "    r, c = skimage.draw.line(Y, X, Y+(int)(L*np.sin(t2)), X+(int)(L*np.cos(t2)))\n",
    "    diffangle = t2+diff2\n",
    "    r2, c2 = skimage.draw.line(Y, X, Y+(int)(L*np.sin(diffangle)), X+(int)(L*np.cos(diffangle)))\n",
    "    img[r, c] = 1\n",
    "    img[r2, c2] = 1\n",
    "    pylab.imshow(img)\n",
    "    print(diff)\n",
    "    return diff\n",
    "draw_angle(25, 25, img)\n",
    "draw_angle(50, 50, img)\n",
    "draw_angle(75, 75, img)"
   ]
  },
  {
   "cell_type": "code",
   "execution_count": null,
   "metadata": {},
   "outputs": [],
   "source": []
  }
 ],
 "metadata": {
  "kernelspec": {
   "display_name": "Python 3",
   "language": "python",
   "name": "python3"
  },
  "language_info": {
   "codemirror_mode": {
    "name": "ipython",
    "version": 3
   },
   "file_extension": ".py",
   "mimetype": "text/x-python",
   "name": "python",
   "nbconvert_exporter": "python",
   "pygments_lexer": "ipython3",
   "version": "3.6.5"
  }
 },
 "nbformat": 4,
 "nbformat_minor": 2
}
